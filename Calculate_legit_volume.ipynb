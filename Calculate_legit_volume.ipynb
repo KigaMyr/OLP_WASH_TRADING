{
 "cells": [
  {
   "cell_type": "code",
   "execution_count": 1,
   "metadata": {},
   "outputs": [
    {
     "data": {
      "text/plain": [
       "5776156.136900001"
      ]
     },
     "execution_count": 1,
     "metadata": {},
     "output_type": "execute_result"
    }
   ],
   "source": [
    "#Total volume excluding Wash Trading \n",
    "import pandas as pd \n",
    "\n",
    "df = pd.read_csv(\"Trades_ZRO_epoch_31.csv\")\n",
    "df['tradeId_num'] = df['tradeId'].str.split('_').str[0]\n",
    "\n",
    "df[\"volume\"] = df[\"executionQuantity\"]/1e6 * df[\"executionPrice\"]\n",
    "\n",
    "#Calculate the total volume of wq\n",
    "df2 = df[(df['inj_address'] == \"inj168rzv04sfrglf868evsecjdzs48wt2pruycrwq\")]\n",
    "\n",
    "total_volume_with_wash = df2[\"volume\"].sum()\n",
    "total_volume_with_wash\n"
   ]
  },
  {
   "cell_type": "code",
   "execution_count": 2,
   "metadata": {},
   "outputs": [],
   "source": [
    "\n",
    "\n",
    "df = df[[\"tradeId_num\",\"inj_address\",\"executionSide\",\"tradeDirection\",\"volume\"]]\n",
    "\n",
    "grouped_trades = df.groupby(['tradeId_num'])\n"
   ]
  },
  {
   "cell_type": "code",
   "execution_count": 3,
   "metadata": {},
   "outputs": [
    {
     "data": {
      "text/plain": [
       "5716934.9759"
      ]
     },
     "execution_count": 3,
     "metadata": {},
     "output_type": "execute_result"
    }
   ],
   "source": [
    "def calculate_washtraded_volume(group):\n",
    "    # Define the set of specified addresses\n",
    "    specified_addresses = {'inj168rzv04sfrglf868evsecjdzs48wt2pruycrwq', 'inj1ey9krdl9hqlf0usw8zrg5s2p92943zw5y8u0wz'}\n",
    "    \n",
    "    # Get the set of addresses in the group\n",
    "    group_addresses = set(group['inj_address'])\n",
    "    \n",
    "    # Check if the group addresses are a subset of the specified addresses\n",
    "    if group_addresses.issubset(specified_addresses):\n",
    "        #print(group)\n",
    "        # Filter the group to include only the relevant addresses\n",
    "        # Calculate the volume based on the condition\n",
    "        volume = group.loc[group['inj_address'] == 'inj168rzv04sfrglf868evsecjdzs48wt2pruycrwq', 'volume'].sum()\n",
    "        return volume\n",
    "    else:\n",
    "        return None\n",
    "\n",
    "# Apply the function to each group and store the results in a Series\n",
    "grouped_volume = grouped_trades.apply(calculate_washtraded_volume)\n",
    "\n",
    "Volume_washed = grouped_volume.sum()\n",
    "Volume_washed"
   ]
  },
  {
   "cell_type": "code",
   "execution_count": 4,
   "metadata": {},
   "outputs": [
    {
     "data": {
      "text/plain": [
       "59221.161000001244"
      ]
     },
     "execution_count": 4,
     "metadata": {},
     "output_type": "execute_result"
    }
   ],
   "source": [
    "legit_volume = total_volume_with_wash - Volume_washed\n",
    "legit_volume"
   ]
  }
 ],
 "metadata": {
  "kernelspec": {
   "display_name": "Python 3",
   "language": "python",
   "name": "python3"
  },
  "language_info": {
   "codemirror_mode": {
    "name": "ipython",
    "version": 3
   },
   "file_extension": ".py",
   "mimetype": "text/x-python",
   "name": "python",
   "nbconvert_exporter": "python",
   "pygments_lexer": "ipython3",
   "version": "3.9.6"
  }
 },
 "nbformat": 4,
 "nbformat_minor": 2
}
